{
  "nbformat": 4,
  "nbformat_minor": 0,
  "metadata": {
    "colab": {
      "name": "58015_Guy_RevisitingPython",
      "provenance": [],
      "collapsed_sections": [],
      "toc_visible": true,
      "include_colab_link": true
    },
    "kernelspec": {
      "name": "python3",
      "display_name": "Python 3"
    }
  },
  "cells": [
    {
      "cell_type": "markdown",
      "metadata": {
        "id": "view-in-github",
        "colab_type": "text"
      },
      "source": [
        "<a href=\"https://colab.research.google.com/github/Loreynszxc/NumMeth-2021/blob/main/58015_Guy_RevisitingPython.ipynb\" target=\"_parent\"><img src=\"https://colab.research.google.com/assets/colab-badge.svg\" alt=\"Open In Colab\"/></a>"
      ]
    },
    {
      "cell_type": "markdown",
      "metadata": {
        "id": "QnAdk8hy7Bl9"
      },
      "source": [
        "# Welcome to Python Fundamentals \r\n",
        "by *L.A. Guy ©2021*\r\n",
        "\r\n",
        "In this module, we are going to establish or review our skills in Python programming. In this notebook we are going to cover:\r\n",
        "* Variables and Data Types \r\n",
        "* Operations\r\n",
        "* Input and Output Operations\r\n",
        "* Logic Control\r\n",
        "* Iterables\r\n",
        "* Functions"
      ]
    },
    {
      "cell_type": "markdown",
      "metadata": {
        "id": "T6ABRAjTT1Ta"
      },
      "source": [
        "## Variable and Data Types"
      ]
    },
    {
      "cell_type": "markdown",
      "metadata": {
        "id": "7fb66yz7iFH3"
      },
      "source": [
        "### **Discussion**: \r\n",
        "Variables are used to store data. These variables can have different data types that store different kinds of data. For example is a string data type wherein it can store texts while int data type can store whole numbers.  \r\n",
        "\r\n",
        "![image](https://static.javatpoint.com/python/images/python-data-types.png)\r\n",
        "\r\n",
        "Adapted from [1]"
      ]
    },
    {
      "cell_type": "code",
      "metadata": {
        "id": "G8JI3DTZ616F"
      },
      "source": [
        "x = 1\r\n",
        "a,b = 0, -1"
      ],
      "execution_count": null,
      "outputs": []
    },
    {
      "cell_type": "code",
      "metadata": {
        "id": "QLT9rz2dUJ95"
      },
      "source": [
        "type(x)"
      ],
      "execution_count": null,
      "outputs": []
    },
    {
      "cell_type": "code",
      "metadata": {
        "id": "TR_rvX4SUWqx"
      },
      "source": [
        "y = 1.0\r\n",
        "type(y)"
      ],
      "execution_count": null,
      "outputs": []
    },
    {
      "cell_type": "code",
      "metadata": {
        "id": "FqV2upOiXcnC"
      },
      "source": [
        "x = float(x)\r\n",
        "type(x)"
      ],
      "execution_count": null,
      "outputs": []
    },
    {
      "cell_type": "code",
      "metadata": {
        "id": "2tuyqwmyXiDb"
      },
      "source": [
        "s,t,u = \"0\", '1', 'one'\r\n",
        "type(s)"
      ],
      "execution_count": null,
      "outputs": []
    },
    {
      "cell_type": "code",
      "metadata": {
        "id": "6JwWqHx3XlmB"
      },
      "source": [
        "s_int = int(s)\r\n",
        "s_int"
      ],
      "execution_count": null,
      "outputs": []
    },
    {
      "cell_type": "markdown",
      "metadata": {
        "id": "9RgPwQR4YVG5"
      },
      "source": [
        "## Operations"
      ]
    },
    {
      "cell_type": "markdown",
      "metadata": {
        "id": "fKfI8yMinzD3"
      },
      "source": [
        "### **Discussion:**\r\n",
        "\r\n",
        "There are 7 basic arithmetic operations in Python [2]. \\\r\n",
        "1. Addition [+]\r\n",
        "2. Subtraction [-]\r\n",
        "3. Multiplication [*]\r\n",
        "4. Division [/]\r\n",
        "5. Floor Division [//]\r\n",
        "6. Exponentiation [**]\r\n",
        "7. Modulo/Modulus Division [%]\r\n",
        "\r\n",
        "Below are the summary of the function of each operators.\r\n",
        "![image](https://drive.google.com/uc?export=view&id=11Z_k1E2avrWi5LTdx2kuVCnGqrX4e-ad)\\\r\n",
        "Adapted from [2]\r\n"
      ]
    },
    {
      "cell_type": "markdown",
      "metadata": {
        "id": "mvoS_zuJYbsg"
      },
      "source": [
        "### Arithmetic"
      ]
    },
    {
      "cell_type": "code",
      "metadata": {
        "id": "DSjUO0KcYoE-"
      },
      "source": [
        "a,b,c,d = 2.0, -0.5, 0, -32"
      ],
      "execution_count": null,
      "outputs": []
    },
    {
      "cell_type": "code",
      "metadata": {
        "id": "o_kk0XFzYX9o"
      },
      "source": [
        "### Addition\r\n",
        "S = a+b\r\n",
        "S"
      ],
      "execution_count": null,
      "outputs": []
    },
    {
      "cell_type": "code",
      "metadata": {
        "id": "TC5oFq3MY4jk"
      },
      "source": [
        "### Subtraction\r\n",
        "D = b-d\r\n",
        "D"
      ],
      "execution_count": null,
      "outputs": []
    },
    {
      "cell_type": "code",
      "metadata": {
        "id": "j0bGayj5Y9wr"
      },
      "source": [
        "### Multiplication\r\n",
        "P = a*d\r\n",
        "P"
      ],
      "execution_count": null,
      "outputs": []
    },
    {
      "cell_type": "code",
      "metadata": {
        "id": "FnMWmq5LZLEU"
      },
      "source": [
        "### Division\r\n",
        "Q = c/a\r\n",
        "Q"
      ],
      "execution_count": null,
      "outputs": []
    },
    {
      "cell_type": "code",
      "metadata": {
        "id": "cQeVcFIWZd8o"
      },
      "source": [
        "### Floor Division\r\n",
        "Fq = a//b\r\n",
        "Fq"
      ],
      "execution_count": null,
      "outputs": []
    },
    {
      "cell_type": "code",
      "metadata": {
        "id": "YLaUu6APZSzR"
      },
      "source": [
        "### Exponentiation\r\n",
        "E = a**b\r\n",
        "E"
      ],
      "execution_count": null,
      "outputs": []
    },
    {
      "cell_type": "code",
      "metadata": {
        "id": "uf_0sf4CZ1JT"
      },
      "source": [
        "### Modulo\r\n",
        "mod = d%a\r\n",
        "mod"
      ],
      "execution_count": null,
      "outputs": []
    },
    {
      "cell_type": "markdown",
      "metadata": {
        "id": "GH4Ixjtm5F4E"
      },
      "source": [
        "### **Discussion:**\r\n",
        "\r\n",
        "Assignment operators assign a value or a new value to a variable. The '=' operator gives a variable a value. The \"G+=a\" assignment operator when extended means only G = G+a. The left hand value will perform addition to the right hand value and assign the outcome of that to the left hand variable."
      ]
    },
    {
      "cell_type": "markdown",
      "metadata": {
        "id": "afyWvb1ZaJJ6"
      },
      "source": [
        "### Assignment Operations"
      ]
    },
    {
      "cell_type": "code",
      "metadata": {
        "id": "rMZ8r4WhanaE"
      },
      "source": [
        "G, H, J, K = 0, 100, 2, 2"
      ],
      "execution_count": null,
      "outputs": []
    },
    {
      "cell_type": "code",
      "metadata": {
        "id": "IX0EbJ8RaMih"
      },
      "source": [
        "G += a\r\n",
        "G"
      ],
      "execution_count": null,
      "outputs": []
    },
    {
      "cell_type": "code",
      "metadata": {
        "id": "aIj4hA-JaRA0"
      },
      "source": [
        "H -= d"
      ],
      "execution_count": null,
      "outputs": []
    },
    {
      "cell_type": "code",
      "metadata": {
        "id": "vuuDbAbNaXgS"
      },
      "source": [
        "J *= 2\r\n",
        "J"
      ],
      "execution_count": null,
      "outputs": []
    },
    {
      "cell_type": "code",
      "metadata": {
        "id": "sGVXGduUaeAj"
      },
      "source": [
        "K **= 2\r\n",
        "K"
      ],
      "execution_count": null,
      "outputs": []
    },
    {
      "cell_type": "markdown",
      "metadata": {
        "id": "qcMNSZdCG8OP"
      },
      "source": [
        "### **Discussion:**\r\n",
        "\r\n",
        "Comparison Operators compare the values of the left hand value and right hand value and return boolean values. The double equal comparator \"==\" checks if the value of the left and right hand value are equal. The not equal \"!=\" comparator checks if the values are not equal. The greater than \">\" comparator if the left hand value is greater than the right hand and the greater than or equal \">=\" checks if the left hand value is equal or greater than. While the less than and less than or equal is the opposite of that. "
      ]
    },
    {
      "cell_type": "markdown",
      "metadata": {
        "id": "UGXuqhVNbW7R"
      },
      "source": [
        "### Comparators"
      ]
    },
    {
      "cell_type": "code",
      "metadata": {
        "id": "Oj9xLaEaYeuY"
      },
      "source": [
        "res_1, res_2, res_3 = 1, 2.0, \"1\"\r\n",
        "true_val = 1.0"
      ],
      "execution_count": null,
      "outputs": []
    },
    {
      "cell_type": "code",
      "metadata": {
        "id": "GEXm6RSsbA8Q"
      },
      "source": [
        "## Equality\r\n",
        "res_1 == true_val"
      ],
      "execution_count": null,
      "outputs": []
    },
    {
      "cell_type": "code",
      "metadata": {
        "id": "SdHk_b58bZhD"
      },
      "source": [
        "## Non-equality\r\n",
        "res_2 != true_val"
      ],
      "execution_count": null,
      "outputs": []
    },
    {
      "cell_type": "code",
      "metadata": {
        "id": "EnA4q50JbQB5"
      },
      "source": [
        "## Inequality\r\n",
        "t1 = res_1 > res_2\r\n",
        "t2 = res_1 < res_2/2\r\n",
        "t3 = res_1 >= res_2/2\r\n",
        "t4 = res_1 <= res_2  \r\n",
        "t1"
      ],
      "execution_count": null,
      "outputs": []
    },
    {
      "cell_type": "markdown",
      "metadata": {
        "id": "Yrd1yybOJRyr"
      },
      "source": [
        "Logical operators the same with comparators return boolean values. The \"is\" keyword is the same as \"==\" operator. It checks if the values are equal. The \"and\" keyword checks if both are true and return true but if one value is False then it will return False. The \"or\" keyword checks either or both of the value is True and it will return True but if both are False then it will return False. The \"not\" operator reverses the value, if the value is True then the outcome will be False and vice versa. Lastly, is the logical operator XOR. There are currently no keyword for xor in Python. Basically, the XOR operator returns true if there are an odd number of true values if not it returns False. "
      ]
    },
    {
      "cell_type": "markdown",
      "metadata": {
        "id": "9WkfdvbfcC1Y"
      },
      "source": [
        "### Logical"
      ]
    },
    {
      "cell_type": "code",
      "metadata": {
        "id": "cYVG6YeNb-Gz"
      },
      "source": [
        "res_1 == true_val"
      ],
      "execution_count": null,
      "outputs": []
    },
    {
      "cell_type": "code",
      "metadata": {
        "id": "rLe6hpkHcN-z"
      },
      "source": [
        "res_1 is true_val"
      ],
      "execution_count": null,
      "outputs": []
    },
    {
      "cell_type": "code",
      "metadata": {
        "id": "tr5qxHQmcO-C"
      },
      "source": [
        "res_1 is not true_val"
      ],
      "execution_count": null,
      "outputs": []
    },
    {
      "cell_type": "code",
      "metadata": {
        "id": "3GU72N-Gcslz"
      },
      "source": [
        "p, q = True, False\r\n",
        "conj = p and q\r\n",
        "conj"
      ],
      "execution_count": null,
      "outputs": []
    },
    {
      "cell_type": "code",
      "metadata": {
        "id": "ihMxcT6KcvQj"
      },
      "source": [
        "p, q = True, False\r\n",
        "disj = p or q\r\n",
        "disj"
      ],
      "execution_count": null,
      "outputs": []
    },
    {
      "cell_type": "code",
      "metadata": {
        "id": "T-QfmeYgcyGQ"
      },
      "source": [
        "p, q = True, False\r\n",
        "nand = not(p and q)\r\n",
        "nand"
      ],
      "execution_count": null,
      "outputs": []
    },
    {
      "cell_type": "code",
      "metadata": {
        "id": "2HL7SlVbc10k"
      },
      "source": [
        "p, q = True, False\r\n",
        "xor = (not p and q) or (p and not q)\r\n",
        "xor"
      ],
      "execution_count": null,
      "outputs": []
    },
    {
      "cell_type": "markdown",
      "metadata": {
        "id": "RhoNdDjqa4uz"
      },
      "source": [
        "### **Discussion:**\r\n",
        "\r\n",
        "The print keyword is used to display something in the console.  While the input keyword allows the user to type in the values that the user wants. By default input returns a string but it can be changed if the value inputted is applicable to other data types. "
      ]
    },
    {
      "cell_type": "markdown",
      "metadata": {
        "id": "AQx4DKafYffJ"
      },
      "source": [
        "### I/O"
      ]
    },
    {
      "cell_type": "code",
      "metadata": {
        "id": "Q-DVERG5Yk9w"
      },
      "source": [
        "print(\"Hello World\")"
      ],
      "execution_count": null,
      "outputs": []
    },
    {
      "cell_type": "code",
      "metadata": {
        "id": "fS5wN51beSVF"
      },
      "source": [
        "cnt = 1"
      ],
      "execution_count": null,
      "outputs": []
    },
    {
      "cell_type": "code",
      "metadata": {
        "id": "hKNaUXmdZdUo"
      },
      "source": [
        "string = \"Hello World\"\r\n",
        "print(string, \", Current run count is:\", cnt)\r\n",
        "cnt += 1"
      ],
      "execution_count": null,
      "outputs": []
    },
    {
      "cell_type": "code",
      "metadata": {
        "id": "15_WdzEZcOVX"
      },
      "source": [
        "print(f\"{string}, Current count is: {cnt}\")"
      ],
      "execution_count": null,
      "outputs": []
    },
    {
      "cell_type": "code",
      "metadata": {
        "id": "5m9XtFOPcOXo"
      },
      "source": [
        "sem_grade = 82.243564657461234\r\n",
        "name = \"\"\r\n",
        "print(\"Hello {}, your semestral grade is: {}\".format(name, sem_grade))"
      ],
      "execution_count": null,
      "outputs": []
    },
    {
      "cell_type": "code",
      "metadata": {
        "id": "SMJx6bTnfdgZ"
      },
      "source": [
        "w_pg, w_mg, w_fg = 0.3, 0.3, 0.4\r\n",
        "print(\"The weights of your semestral grades are:\\\r\n",
        "\\n\\t{:.2%} for Prelims\\\r\n",
        "\\n\\t{:.2%} for Midterms, and\\\r\n",
        "\\n\\t{:.2%} for Finals.\".format(w_pg, w_mg, w_fg))"
      ],
      "execution_count": null,
      "outputs": []
    },
    {
      "cell_type": "code",
      "metadata": {
        "id": "Ob2I_zR3jAcZ"
      },
      "source": [
        "x = input(\"enter a number: \")\r\n",
        "x"
      ],
      "execution_count": null,
      "outputs": []
    },
    {
      "cell_type": "code",
      "metadata": {
        "id": "T7ODFfcMh9Pg"
      },
      "source": [
        "name = input(\"Kimi no nawa: \")\r\n",
        "pg = input(\"Enter prelim grade: \")\r\n",
        "mg = input(\"Enter midterm grade: \")\r\n",
        "fg = input(\"Enter finals grade: \")\r\n",
        "sem_grade = None\r\n",
        "print(\"Hello {}, your semestral grade is: {}\".format(name, sem_grade))"
      ],
      "execution_count": null,
      "outputs": []
    },
    {
      "cell_type": "markdown",
      "metadata": {
        "id": "rqWV7PVUbmOV"
      },
      "source": [
        "### **Discussion:**\r\n",
        "\r\n",
        "Looping statements are used to execute a certain code multiple times. By using loops, the codes can be shortened and execute faster. A while loop executes a code multiple times until the given condition is satisfied. An example would be the code below wherein the code will execute as long as variable 'i' is less than or equal to variable 'j'. But when i exceeds j then the loop will stop. A for loop will execute multiple times depending on the range of the sequence given. "
      ]
    },
    {
      "cell_type": "markdown",
      "metadata": {
        "id": "i0g3EothhvqL"
      },
      "source": [
        "# Looping Statements"
      ]
    },
    {
      "cell_type": "markdown",
      "metadata": {
        "id": "j4w90VAIjcFJ"
      },
      "source": [
        "## While"
      ]
    },
    {
      "cell_type": "code",
      "metadata": {
        "id": "4vtSrBPThlse"
      },
      "source": [
        "## while loops\r\n",
        "i, j = 0, 10\r\n",
        "while(i<=j):\r\n",
        "    print(f\"{i}\\t|\\t{j}\")\r\n",
        "    i+=1"
      ],
      "execution_count": null,
      "outputs": []
    },
    {
      "cell_type": "markdown",
      "metadata": {
        "id": "Qz6AH6jRjfUg"
      },
      "source": [
        "## For"
      ]
    },
    {
      "cell_type": "code",
      "metadata": {
        "id": "q0DUwfRkjZY7"
      },
      "source": [
        "# for(int i=0; i<10; i++){\r\n",
        "# printf(i)\r\n",
        "# }\r\n",
        "\r\n",
        "i=0\r\n",
        "for i in range(10):\r\n",
        "    print(i)"
      ],
      "execution_count": null,
      "outputs": []
    },
    {
      "cell_type": "code",
      "metadata": {
        "id": "zaM--lUhjiUg"
      },
      "source": [
        "playlist = []\r\n",
        "print('Now Playing:\\n')\r\n",
        "for song in playlist:\r\n",
        "    print(song)"
      ],
      "execution_count": null,
      "outputs": []
    },
    {
      "cell_type": "markdown",
      "metadata": {
        "id": "N6jTqTZojnSg"
      },
      "source": [
        "# Flow Control"
      ]
    },
    {
      "cell_type": "markdown",
      "metadata": {
        "id": "Dafc9Nk6lEnG"
      },
      "source": [
        "Condition statements are used to control which statements are to be executed. The if else statements is read by the computer from top to bottom. If the first condition is satisfied the rest of the code below will not be used. "
      ]
    },
    {
      "cell_type": "markdown",
      "metadata": {
        "id": "uhnsV2CijrWQ"
      },
      "source": [
        "## Condition Statements"
      ]
    },
    {
      "cell_type": "code",
      "metadata": {
        "id": "seJplrJojmTg"
      },
      "source": [
        "numeral1, numeral2 = 12, 12\r\n",
        "if(numeral1 == numeral2):\r\n",
        "    print(\"Yey\")\r\n",
        "elif(numeral1>numeral2):\r\n",
        "    print(\"Hoho\")\r\n",
        "else:\r\n",
        "    print(\"Aww\")\r\n",
        "print(\"Hip hip\")"
      ],
      "execution_count": null,
      "outputs": []
    },
    {
      "cell_type": "markdown",
      "metadata": {
        "id": "L4AuGnL4nTCq"
      },
      "source": [
        "### **Discussion:**\r\n",
        "\r\n",
        "Functions are only executed when they are called.Functiosn have parameters where data can be passed. A function can have many parameters. The actual data that we will be passing in the parameter are called arguments. When calling a function in Python, type the function name followed by parenthesis and the argument if needed. [3]"
      ]
    },
    {
      "cell_type": "markdown",
      "metadata": {
        "id": "tlnG1OKilNLo"
      },
      "source": [
        "# Functions"
      ]
    },
    {
      "cell_type": "code",
      "metadata": {
        "id": "1iMUEipnlUKY"
      },
      "source": [
        "# void DeleteUser(int userid){\r\n",
        "#     delete(userid);\r\n",
        "# }\r\n",
        "\r\n",
        "def delete_user (userid):\r\n",
        "    print(\"Successfully deleted user: {}\".format(userid))\r\n",
        "    \r\n",
        "def delete_all_users ():\r\n",
        "    print(\"Successfully deleted all users\")"
      ],
      "execution_count": null,
      "outputs": []
    },
    {
      "cell_type": "code",
      "metadata": {
        "id": "v_TkrftylUEA"
      },
      "source": [
        "userid = 0\r\n",
        "delete_user(0)\r\n",
        "delete_all_users()"
      ],
      "execution_count": null,
      "outputs": []
    },
    {
      "cell_type": "code",
      "metadata": {
        "id": "M0ffjw31lT8Y"
      },
      "source": [
        "def add(addend1, addend2):\r\n",
        "    return addend1 + addend2\r\n",
        "\r\n",
        "def power_of_base2(exponent):\r\n",
        "    return 2**exponent"
      ],
      "execution_count": null,
      "outputs": []
    },
    {
      "cell_type": "markdown",
      "metadata": {
        "id": "oVMgga9dqorG"
      },
      "source": [
        "### **Discussion:**\r\n",
        "\r\n",
        "Lambda functions are anonymous functions. Lambda functions can have multiple arguments but can only execute a single statement. [4]"
      ]
    },
    {
      "cell_type": "markdown",
      "metadata": {
        "id": "2_tDT01oFEGQ"
      },
      "source": [
        "### Lambda Functions"
      ]
    },
    {
      "cell_type": "code",
      "metadata": {
        "id": "tmmBNW9pFg-4"
      },
      "source": [
        "x = 4"
      ],
      "execution_count": null,
      "outputs": []
    },
    {
      "cell_type": "code",
      "metadata": {
        "id": "_9KYzCrIFCpI"
      },
      "source": [
        "def f(x):\r\n",
        "  return 2*(x*x)-1\r\n",
        "f(x)"
      ],
      "execution_count": null,
      "outputs": []
    },
    {
      "cell_type": "code",
      "metadata": {
        "id": "a2uwKwqFFafn"
      },
      "source": [
        "g = lambda x: 2*(x*x)-1\r\n",
        "print(g(x))"
      ],
      "execution_count": null,
      "outputs": []
    },
    {
      "cell_type": "markdown",
      "metadata": {
        "id": "neq8g5B-xgGi"
      },
      "source": [
        "### **Discussion:**\r\n",
        "\r\n",
        "In this activity, the input function is used to get the name and course of the student. Also, input function is used to get the prelim, midterm and final grade of the student. As stated earlier, the default data type of inputted values are string but since the inputted values are going to be used to calculate for the semestral grade the data type declared is float. The conversion of string to float data type in Python is called Type Casting [5]."
      ]
    },
    {
      "cell_type": "code",
      "metadata": {
        "id": "Rjm9RFrGlMgA"
      },
      "source": [
        "'''\r\n",
        "Create a grade calculator that computes for the semestral grade of a course.\r\n",
        "Students could type their names, the name of the course, then their prelim,\r\n",
        "midterm, and final grade.\r\n",
        "The program should print the semestral grade in 2 decimal points and should\r\n",
        "display the following emojis depending on the situation:\r\n",
        "happy - when grade is greater than 70.00\r\n",
        "laughing - when grade is exactly 70.00\r\n",
        "sad - when grade is below 70.00\r\n",
        "'''\r\n",
        "happy, lol, sad = \"\\U0001F600\",\"\\U0001F923\",\"\\U0001F619\""
      ],
      "execution_count": null,
      "outputs": []
    },
    {
      "cell_type": "code",
      "metadata": {
        "colab": {
          "base_uri": "https://localhost:8080/"
        },
        "id": "UzgeJC7Zufjp",
        "outputId": "d00d2006-8115-4dc5-a4fc-9319fe41a8f0"
      },
      "source": [
        "def grade_calc():\r\n",
        "  input(\"Input student name: \")\r\n",
        "  input(\"Input course name: \")\r\n",
        "  \r\n",
        "  prelim_grade = float(input(\"Input prelim grade: \"))\r\n",
        "  midterm_grade = float(input(\"Input midterm grade: \"))\r\n",
        "  final_grade = float(input(\"Input finals grade: \"))\r\n",
        "\r\n",
        "  sem_grade = ((prelim_grade + midterm_grade)*0.3) + (final_grade*0.4)\r\n",
        "\r\n",
        "  print(\"Semestral Grade is: \",sem_grade)\r\n",
        "  if sem_grade > 70:\r\n",
        "    print(\"\\U0001F600\")\r\n",
        "  elif sem_grade == 70:\r\n",
        "    print(\"\\U0001F923\")\r\n",
        "  else:\r\n",
        "    print(\"\\U0001F619\")\r\n",
        "\r\n",
        "grade_calc()\r\n",
        "\r\n"
      ],
      "execution_count": null,
      "outputs": [
        {
          "output_type": "stream",
          "text": [
            "Input student name: Lawrence\n",
            "Input course name: CPE\n",
            "Input prelim grade: 80\n",
            "Input midterm grade: 80\n",
            "Input finals grade: 80\n",
            "Semestral Grade is:  80.0\n",
            "😀\n"
          ],
          "name": "stdout"
        }
      ]
    },
    {
      "cell_type": "markdown",
      "metadata": {
        "id": "Flaei57xkPCr"
      },
      "source": [
        "### References:\r\n",
        "\r\n",
        "[1] JavaTPoint (2021). [***JavaTPoint: Python Data Types***](https://www.javatpoint.com/python-data-types)\r\n",
        "\r\n",
        "[2] GeeksforGeeks (2020). [***GeeksforGeeks: Python Arithmetic Operators***](https://www.geeksforgeeks.org/python-arithmetic-operators/)\r\n",
        "\r\n",
        "[3] W3Schools (2021). [***W3Schools: Python Functions***](https://www.w3schools.com/python/python_functions.asp) \r\n",
        "\r\n",
        "[4] W3Schools (2021). [***W3Schools: Python Lambda***](https://www.w3schools.com/python/python_lambda.asp)\r\n",
        "\r\n",
        "[5] Programiz (2021). [***Programiz: Python Type Conversion and Type Casting***](https://www.programiz.com/python-programming/type-conversion-and-casting)\r\n",
        "\r\n"
      ]
    }
  ]
}